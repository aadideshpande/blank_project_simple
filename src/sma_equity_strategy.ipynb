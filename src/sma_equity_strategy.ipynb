{
 "cells": [
  {
   "cell_type": "code",
   "execution_count": null,
   "metadata": {},
   "outputs": [],
   "source": [
    "import yfinance as yf\n",
    "import pandas as pd\n",
    "import numpy as np\n",
    "import matplotlib.pyplot as plt\n",
    "\n",
    "# This line makes matplotlib plots appear inline in the notebook\n",
    "%matplotlib inline\n"
   ]
  },
  {
   "cell_type": "code",
   "execution_count": null,
   "metadata": {},
   "outputs": [],
   "source": [
    "# Define the ticker and time period\n",
    "ticker = 'AAPL'\n",
    "start_date = '2015-01-01'\n",
    "end_date = '2023-01-01'\n",
    "\n",
    "# Download historical data using yfinance\n",
    "data = yf.download(ticker, start=start_date, end=end_date)\n",
    "\n",
    "# Display the first few rows of the data\n",
    "data.head()\n"
   ]
  },
  {
   "cell_type": "code",
   "execution_count": null,
   "metadata": {},
   "outputs": [],
   "source": [
    "# Define window sizes for the short and long moving averages\n",
    "short_window = 40\n",
    "long_window = 100\n",
    "\n",
    "# Calculate the short-term and long-term Simple Moving Averages (SMAs)\n",
    "data['SMA_short'] = data['Close'].rolling(window=short_window, min_periods=1).mean()\n",
    "data['SMA_long'] = data['Close'].rolling(window=long_window, min_periods=1).mean()\n",
    "\n",
    "# Display the updated DataFrame\n",
    "data[['Close', 'SMA_short', 'SMA_long']].head(10)\n"
   ]
  },
  {
   "cell_type": "code",
   "execution_count": null,
   "metadata": {},
   "outputs": [],
   "source": [
    "# Create a new column 'Signal' that is 1 when the short SMA is above the long SMA and 0 otherwise\n",
    "data['Signal'] = np.where(data['SMA_short'] > data['SMA_long'], 1.0, 0.0)\n",
    "\n",
    "# Create a 'Position' column to identify the points where a trade is initiated (i.e. a change in signal)\n",
    "data['Position'] = data['Signal'].diff()\n",
    "\n",
    "# Display the signals\n",
    "data[['Close', 'SMA_short', 'SMA_long', 'Signal', 'Position']].tail(10)\n"
   ]
  },
  {
   "cell_type": "code",
   "execution_count": null,
   "metadata": {},
   "outputs": [],
   "source": [
    "plt.figure(figsize=(14,7))\n",
    "plt.plot(data['Close'], label=ticker, alpha=0.5)\n",
    "plt.plot(data['SMA_short'], label=f'SMA {short_window}', alpha=0.75)\n",
    "plt.plot(data['SMA_long'], label=f'SMA {long_window}', alpha=0.75)\n",
    "\n",
    "# Plot buy signals (when Position == 1.0)\n",
    "plt.plot(data.loc[data['Position'] == 1.0].index,\n",
    "         data['SMA_short'][data['Position'] == 1.0],\n",
    "         '^', markersize=10, color='g', label='Buy Signal')\n",
    "\n",
    "# Plot sell signals (when Position == -1.0)\n",
    "plt.plot(data.loc[data['Position'] == -1.0].index,\n",
    "         data['SMA_short'][data['Position'] == -1.0],\n",
    "         'v', markersize=10, color='r', label='Sell Signal')\n",
    "\n",
    "plt.title(f'{ticker} Price with Buy/Sell Signals')\n",
    "plt.xlabel('Date')\n",
    "plt.ylabel('Price (USD)')\n",
    "plt.legend()\n",
    "plt.show()\n"
   ]
  },
  {
   "cell_type": "code",
   "execution_count": null,
   "metadata": {},
   "outputs": [],
   "source": [
    "# Calculate the daily percentage change (market returns)\n",
    "data['Market Return'] = data['Close'].pct_change()\n",
    "\n",
    "# Compute the strategy returns:\n",
    "# We shift the signal by one day to avoid look-ahead bias (i.e., acting on tomorrow's information).\n",
    "data['Strategy Return'] = data['Market Return'] * data['Signal'].shift(1)\n",
    "\n",
    "# Compute the cumulative returns for the market and the strategy\n",
    "data['Cumulative Market Return'] = (1 + data['Market Return']).cumprod()\n",
    "data['Cumulative Strategy Return'] = (1 + data['Strategy Return']).cumprod()\n",
    "\n",
    "# Plot the cumulative returns\n",
    "plt.figure(figsize=(14,7))\n",
    "plt.plot(data['Cumulative Market Return'], label='Market Return', alpha=0.75)\n",
    "plt.plot(data['Cumulative Strategy Return'], label='Strategy Return', alpha=0.75)\n",
    "plt.title('Cumulative Returns: Market vs. Moving Average Crossover Strategy')\n",
    "plt.xlabel('Date')\n",
    "plt.ylabel('Cumulative Return')\n",
    "plt.legend()\n",
    "plt.show()\n"
   ]
  },
  {
   "cell_type": "code",
   "execution_count": null,
   "metadata": {},
   "outputs": [],
   "source": [
    "print(\"Final Cumulative Market Return:\", data['Cumulative Market Return'].iloc[-1])\n",
    "print(\"Final Cumulative Strategy Return:\", data['Cumulative Strategy Return'].iloc[-1])"
   ]
  },
  {
   "cell_type": "code",
   "execution_count": null,
   "metadata": {},
   "outputs": [],
   "source": []
  }
 ],
 "metadata": {
  "language_info": {
   "name": "python"
  }
 },
 "nbformat": 4,
 "nbformat_minor": 2
}
