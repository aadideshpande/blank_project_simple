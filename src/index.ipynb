{
 "cells": [
  {
   "cell_type": "markdown",
   "metadata": {},
   "source": [
    "Example of an Simple Moving Average Strategy\n",
    "=============================================\n",
    "\n",
    "## About this project\n",
    "\n",
    "Below is an example of a Jupyter Notebook that implements a simple moving average crossover trading strategy on Apple Inc. (AAPL) stock data. In this strategy, we use a short-term and a long-term simple moving average (SMA):\n",
    "\n",
    "    Buy Signal: When the short-term SMA crosses above the long-term SMA.\n",
    "    Sell Signal: When the short-term SMA crosses below the long-term SMA.\n",
    "\n",
    "We will download historical data using the free yfinance package, calculate the SMAs, generate buy/sell signals, and then simulate a very simple backtest comparing the strategy’s performance to simply holding the asset\n",
    "\n",
    "## Check out these notebooks\n",
    "\n",
    "- [sma_equity_strategy.ipynb](./sma_equity_strategy.html)"
   ]
  },
  {
   "cell_type": "markdown",
   "metadata": {},
   "source": []
  }
 ],
 "metadata": {
  "language_info": {
   "name": "python"
  }
 },
 "nbformat": 4,
 "nbformat_minor": 2
}
